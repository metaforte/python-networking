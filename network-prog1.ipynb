{
 "cells": [
  {
   "cell_type": "code",
   "execution_count": null,
   "metadata": {
    "collapsed": false
   },
   "outputs": [],
   "source": [
    "import socket\n",
    "print (socket.gethostname())\n",
    "host_name2 = socket.gethostname()\n",
    "ip_address = socket.gethostbyname(host_name2)\n",
    "print(ip_address)"
   ]
  },
  {
   "cell_type": "code",
   "execution_count": null,
   "metadata": {
    "collapsed": false
   },
   "outputs": [],
   "source": [
    "import socket\n",
    "try:\n",
    "    print(socket.gethostbyname('www.python.org'))\n",
    "    \n",
    "except socket.error:#  err_msg:\n",
    "    print(socket.error)\n",
    "\n"
   ]
  },
  {
   "cell_type": "code",
   "execution_count": null,
   "metadata": {
    "collapsed": false
   },
   "outputs": [],
   "source": [
    "#Getting the packet 32 bit binary format of a IP address\n",
    "from binascii import hexlify\n",
    "python_org='www.python.org'\n",
    "python_org_ip = socket.gethostbyname(python_org)\n",
    "\n",
    "packed_ip_addr = socket.inet_aton(python_org_ip)\n",
    "unpacked_ip_addr = socket.inet_ntoa(packed_ip_addr)\n",
    "\n",
    "print(hexlify(packed_ip_addr))\n",
    "print(unpacked_ip_addr)"
   ]
  },
  {
   "cell_type": "code",
   "execution_count": null,
   "metadata": {
    "collapsed": false
   },
   "outputs": [],
   "source": [
    "#Getting service name by port\n",
    "for port in [80,25]:\n",
    "    print (socket.getservbyport(port,'tcp'))\n",
    "\n",
    "    \n",
    "print (socket.getservbyport(53,'udp'))"
   ]
  },
  {
   "cell_type": "code",
   "execution_count": null,
   "metadata": {
    "collapsed": false
   },
   "outputs": [],
   "source": [
    "#convert numbers from HOST byte order to NETWORK byte order and vice versa\n",
    "import socket\n",
    "def print_byte_orders(value=512):\n",
    "    print( \"Host to Network (Long - 64 bit )\",socket.htonl(value))\n",
    "    print( \"Network to Host (Long - 64 bit )\",socket.ntohl(value))\n",
    "    \n",
    "    print( \"Host to Network (short -32 bit)\",socket.htons(value))\n",
    "    print( \"Network to Host (short -32 bit)\",socket.ntohs(value))\n",
    "\n",
    "\n",
    "print_byte_orders()\n",
    "print_byte_orders(5000)\n",
    "\n"
   ]
  },
  {
   "cell_type": "code",
   "execution_count": null,
   "metadata": {
    "collapsed": false
   },
   "outputs": [],
   "source": [
    "#Setting and getting Default socket time out\n",
    "\n",
    "import socket\n",
    "def test_socket_timeout(timeout_value=5000):\n",
    "    s = socket.socket(socket.AF_INET, socket.SOCK_STREAM)\n",
    "    print (\"default time out\",s.gettimeout())\n",
    "    s.settimeout(timeout_value)\n",
    "    print (\"current time out\",s.gettimeout())\n",
    "\n",
    "if __name__ == '__main__':\n",
    "    test_socket_timeout()\n",
    "    "
   ]
  },
  {
   "cell_type": "code",
   "execution_count": null,
   "metadata": {
    "collapsed": false
   },
   "outputs": [],
   "source": [
    "#Socket errors example\n",
    "import sys\n",
    "import socket\n",
    "import argparse\n",
    "\n",
    "def download_from_net(host=\"www.gutenberg.org\",port=80,file_name=b\"/wiki/Main_Page\"):\n",
    "    try:\n",
    "        s = socket.socket(socket.AF_INET,socket.SOCK_STREAM )\n",
    "        s.settimeout(3000)\n",
    "        s.connect((host,port))\n",
    "        \n",
    "        #use byte string to pass to sendall instead of plain text string\n",
    "        url = b\"GET \"+file_name+b\" HTTP/1.0 \\r\\n\\r\\n\"\n",
    "        s.sendall(url)\n",
    "        while 1:\n",
    "            try:\n",
    "                buf = s.recv(2048)\n",
    "            except socket.error as inner_err:\n",
    "                print(\"error receiving data\",inner_err)\n",
    "                sys.exit(1)\n",
    "            if not len(buf):\n",
    "                break\n",
    "            print(buf)\n",
    "    except socket.gaierror as e1:\n",
    "        print (\"address related error\",e1)\n",
    "    except socket.error as e2:\n",
    "        print (\"socket error\",e2)\n",
    "    except:\n",
    "        stack_trace=sys.exc_info()\n",
    "        print (\"unknown error\",stack_trace[0],stack_trace[1],stack_trace[2])\n",
    "        \n",
    "\n",
    "if __name__==\"__main__\":\n",
    "    download_from_net()\n",
    "    "
   ]
  },
  {
   "cell_type": "code",
   "execution_count": null,
   "metadata": {
    "collapsed": false
   },
   "outputs": [],
   "source": [
    "#Changing Send and receive buffer sizes\n",
    "#Options used to open socket\n",
    "#    socket.AF_INET, SOCK_STREAM\n",
    "#Options used to find buffer sizes\n",
    "#    socket.SOL_SOCKET, socket.SO_SNDBUF, socket.SO_RCVBUF\n",
    "\n",
    "\n",
    "import socket\n",
    "def socket_with_custom_buffer_size(send_buff_size=4096, recv_buff_size=4096,host=\"gutenberg.org\",port=80):\n",
    "    sock = socket.socket(socket.AF_INET, socket.SOCK_STREAM)\n",
    "    print(sock.setsockopt.__doc__,\"\\n==============================\")\n",
    "    send_buffsize_old = sock.getsockopt(socket.SOL_SOCKET,socket.SO_SNDBUF)\n",
    "    recv_buffsize_old = sock.getsockopt(socket.SOL_SOCKET,socket.SO_RCVBUF)\n",
    "    \n",
    "    print(\"Values before change\",send_buffsize_old,recv_buffsize_old)\n",
    "    \n",
    "    sock.setsockopt(socket.SOL_TCP, socket.TCP_NODELAY,1)\n",
    "    \n",
    "    sock.setsockopt(socket.SOL_SOCKET,socket.SO_SNDBUF,send_buff_size)\n",
    "    sock.setsockopt(socket.SOL_SOCKET,socket.SO_RCVBUF,recv_buff_size)\n",
    "\n",
    "    send_buffsize_new = sock.getsockopt(socket.SOL_SOCKET,socket.SO_SNDBUF)\n",
    "    recv_buffsize_new = sock.getsockopt(socket.SOL_SOCKET,socket.SO_RCVBUF)\n",
    "    print(\"Values after change\",send_buffsize_new,recv_buffsize_new)\n",
    "    \n",
    "if __name__== '__main__':\n",
    "    socket_with_custom_buffer_size()\n",
    "   \n",
    "    \n",
    "    \n",
    "    \n",
    "    \n",
    "    \n",
    "    "
   ]
  },
  {
   "cell_type": "code",
   "execution_count": null,
   "metadata": {
    "collapsed": false
   },
   "outputs": [],
   "source": [
    "#Changing a socket to blocking non blocking mode\n",
    "import socket\n",
    "def open_blocking_socket():\n",
    "    s = socket.socket(socket.AF_INET,socket.SOCK_STREAM)\n",
    "    s.setblocking(1)\n",
    "    s.settimeout(10)\n",
    "    s.bind((\"127.0.0.1\",30000))\n",
    "    socket_address= s.getsockname()\n",
    "    print (\"Trivial server is launched at socket \",socket_address)\n",
    "    #while True:\n",
    "    s.listen(1)\n",
    "    print(\"the server timed out\")\n",
    "\n",
    "def open_non_blocking_socket():\n",
    "    s = socket.socket(socket.AF_INET,socket.SOCK_STREAM)\n",
    "    s.setblocking(0)\n",
    "    s.settimeout(6)\n",
    "    s.bind((\"127.0.0.1\",30001))\n",
    "    socket_address= s.getsockname()\n",
    "    print (\"Trivial server is launched at socket \",socket_address)\n",
    "    #while True:\n",
    "    s.listen(1)\n",
    "    print(\"the server timed out\")\n",
    "    \n",
    "if __name__==\"__main__\":\n",
    "    open_blocking_socket()\n",
    "    open_non_blocking_socket()"
   ]
  },
  {
   "cell_type": "code",
   "execution_count": null,
   "metadata": {
    "collapsed": false
   },
   "outputs": [],
   "source": [
    "#Reusing socket addresses\n",
    "# srv.setsockopt(socket.SOL_SOCKET,socket.SO_REUSEADDR,1)\n",
    "\n",
    "import socket\n",
    "import sys\n",
    "def create_reusable_socket():\n",
    "    s = socket.socket(socket.AF_INET,socket.SOCK_STREAM)\n",
    "    old_state = s.getsockopt(socket.SOL_SOCKET, socket.SO_REUSEADDR)\n",
    "    print(\"OLD State:\",old_state)\n",
    "    s.setsockopt(socket.SOL_SOCKET, socket.SO_REUSEADDR,1)\n",
    "    new_state = s.getsockopt(socket.SOL_SOCKET, socket.SO_REUSEADDR)\n",
    "    print(\"NEW State:\",new_state)\n",
    "    local_port=10101\n",
    "    srv = socket.socket (socket.AF_INET, socket.SOCK_STREAM)\n",
    "    srv.setsockopt(socket.SOL_SOCKET,socket.SO_REUSEADDR,1)\n",
    "    srv.bind(('',local_port))\n",
    "    srv.listen(1)\n",
    "    print (\"listening  on \",local_port)\n",
    "    while True:\n",
    "        try:\n",
    "            connection,addr = srv.accept()\n",
    "            print (\"Connected by \",addr[0],addr[1])\n",
    "        except KeyboardInterrupt:\n",
    "            break\n",
    "        except socket.error as e:\n",
    "            print(e)\n",
    "    \n",
    "if __name__ ==\"__main__\":\n",
    "    create_reusable_socket()\n",
    "    \n",
    "    \n",
    "    \n",
    "    \n",
    "    \n",
    "    "
   ]
  },
  {
   "cell_type": "code",
   "execution_count": null,
   "metadata": {
    "collapsed": true
   },
   "outputs": [],
   "source": []
  }
 ],
 "metadata": {
  "kernelspec": {
   "display_name": "Python 3",
   "language": "python",
   "name": "python3"
  },
  "language_info": {
   "codemirror_mode": {
    "name": "ipython",
    "version": 3
   },
   "file_extension": ".py",
   "mimetype": "text/x-python",
   "name": "python",
   "nbconvert_exporter": "python",
   "pygments_lexer": "ipython3",
   "version": "3.5.0"
  }
 },
 "nbformat": 4,
 "nbformat_minor": 0
}
